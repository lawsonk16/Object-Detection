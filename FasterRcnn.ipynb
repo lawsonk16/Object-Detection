{
  "nbformat": 4,
  "nbformat_minor": 0,
  "metadata": {
    "colab": {
      "name": "FasterRcnn.ipynb",
      "provenance": [],
      "collapsed_sections": [],
      "include_colab_link": true
    },
    "kernelspec": {
      "name": "python3",
      "display_name": "Python 3"
    },
    "accelerator": "GPU"
  },
  "cells": [
    {
      "cell_type": "markdown",
      "metadata": {
        "id": "view-in-github",
        "colab_type": "text"
      },
      "source": [
        "<a href=\"https://colab.research.google.com/github/lawsonk16/Object-Detection/blob/main/FasterRcnn.ipynb\" target=\"_parent\"><img src=\"https://colab.research.google.com/assets/colab-badge.svg\" alt=\"Open In Colab\"/></a>"
      ]
    },
    {
      "cell_type": "markdown",
      "metadata": {
        "id": "8y7Bx0VfLwe7"
      },
      "source": [
        "# Train Model - Mask Detection\n",
        " 1. Import packages and set paths\n",
        " 2. Create Data Loaders\n",
        " 3. Define the Model Path\n",
        " 4. Load the Model Parameters\n",
        " 5. Train the Model\n",
        " 6. Run on Test Data\n",
        "\n",
        "<i> Note: These paths are not universal - they are relative and require the user to set up their own data directory. With Colab it is difficult to do otherwise. </i>\n"
      ]
    },
    {
      "cell_type": "code",
      "metadata": {
        "id": "J17t-YtMP7IA",
        "colab": {
          "base_uri": "https://localhost:8080/"
        },
        "outputId": "da8cbebb-bb0d-43c6-b0d1-e3a1434b5621"
      },
      "source": [
        "from google.colab import drive\n",
        "drive.mount('/content/drive', force_remount=True)"
      ],
      "execution_count": 1,
      "outputs": [
        {
          "output_type": "stream",
          "name": "stdout",
          "text": [
            "Mounted at /content/drive\n"
          ]
        }
      ]
    },
    {
      "cell_type": "markdown",
      "metadata": {
        "id": "3cu91ZBjLu0o"
      },
      "source": [
        "### Step 1: Make Relevant Imports\n",
        "We have defined many custom scripts, so we need to add them to our system path"
      ]
    },
    {
      "cell_type": "code",
      "metadata": {
        "id": "v2SYXltMn_Qb"
      },
      "source": [
        "import sys\n",
        "paths = ['/content/drive/MyDrive/Colab Notebooks/scripts']\n",
        "\n",
        "for p in paths:\n",
        "    sys.path.append(p)\n",
        "\n",
        "import os\n",
        "import json\n",
        "import shutil\n",
        "import torch\n",
        "\n",
        "from coco_utils.pytorch_coco_detect import *\n",
        "from coco_utils.coco_help import *\n",
        "from coco_utils.eval_coco import *"
      ],
      "execution_count": 1,
      "outputs": []
    },
    {
      "cell_type": "code",
      "source": [
        "# fix a couple small issues with the fair1m annotations - to be added directly to the fair1m coco files later\n",
        "from tqdm import tqdm \n",
        "def fix_fair1m_anns(ann_file):\n",
        "    with open(ann_file, 'r') as f:\n",
        "        gt = json.load(f)\n",
        "\n",
        "    new_anns = []\n",
        "    for a in gt['annotations']:\n",
        "        new_a = a.copy()\n",
        "        [x,y,w,h] = a['bbox']\n",
        "        new_a['area'] = w*h\n",
        "        if new_a['area'] > 0:\n",
        "          new_anns.append(new_a)\n",
        "\n",
        "    gt['annotations'] = new_anns\n",
        "\n",
        "\n",
        "    new_images = []\n",
        "    for img in tqdm(gt['images']):\n",
        "        im_id = img['id']\n",
        "        if len(anns_on_image(im_id, gt)) > 0 :\n",
        "            new_images.append(img)\n",
        "\n",
        "    gt['images'] = new_images\n",
        "\n",
        "    with open(ann_file, 'w') as f:\n",
        "        json.dump(gt, f)\n",
        "    return"
      ],
      "metadata": {
        "id": "JfrqXhd_G-0f"
      },
      "execution_count": 2,
      "outputs": []
    },
    {
      "cell_type": "markdown",
      "metadata": {
        "id": "A5Eb3IlnI9VR"
      },
      "source": [
        "### Step 2: Unzip Data, Set Data Paths and Create Data Loaders"
      ]
    },
    {
      "cell_type": "code",
      "source": [
        "# data_zip_path = '/content/drive/MyDrive/Colab Notebooks/Clean Datasets/FAIR1M/500/FAIR1M_500_50-20-30.zip'\n",
        "# data_path = '/content/'\n",
        "\n",
        "# shutil.copy2(data_zip_path, data_path)\n",
        "\n",
        "# shutil.unpack_archive(data_zip_path.split('/')[-1])\n",
        "# os.remove(data_zip_path.split('/')[-1])"
      ],
      "metadata": {
        "id": "DgHZ2BfKaXEv"
      },
      "execution_count": 3,
      "outputs": []
    },
    {
      "cell_type": "code",
      "source": [
        "# change the data tag to match your dataset, if applicable\n",
        "data_tag = 'FAIR1M_500'\n",
        "\n",
        "train_ims = 'train_images/'\n",
        "val_ims = 'val_images/'\n",
        "test_ims = 'test_images/'\n",
        "\n",
        "train_anns = f'train_{data_tag}_gt.json'\n",
        "val_anns = f'val_{data_tag}_gt.json'\n",
        "test_anns = f'test_{data_tag}_gt.json'"
      ],
      "metadata": {
        "id": "rBcqihaic6_u"
      },
      "execution_count": 4,
      "outputs": []
    },
    {
      "cell_type": "code",
      "source": [
        "# for a in [train_anns, val_anns, test_anns]:\n",
        "#     fix_fair1m_anns(a)"
      ],
      "metadata": {
        "id": "k26xCplkHJnv"
      },
      "execution_count": 5,
      "outputs": []
    },
    {
      "cell_type": "code",
      "metadata": {
        "id": "MDETuXQdc9j-",
        "colab": {
          "base_uri": "https://localhost:8080/"
        },
        "outputId": "cbfd5a27-bc6a-4853-d4be-7365118767c2"
      },
      "source": [
        "num_workers = 0\n",
        "train_batch_size = 2\n",
        "\n",
        "train_data_loader = make_train_loader(train_ims, train_anns, train_batch_size, num_workers)"
      ],
      "execution_count": 6,
      "outputs": [
        {
          "output_type": "stream",
          "name": "stdout",
          "text": [
            "loading annotations into memory...\n",
            "Done (t=4.53s)\n",
            "creating index...\n",
            "index created!\n"
          ]
        }
      ]
    },
    {
      "cell_type": "code",
      "metadata": {
        "id": "BQDoRCnnkNSA",
        "colab": {
          "base_uri": "https://localhost:8080/"
        },
        "outputId": "5e9040c7-bd5e-4b50-ac7b-b5fd6c772032"
      },
      "source": [
        "num_workers = 0\n",
        "val_batch_size = 1\n",
        "val_data_loader = make_test_loader(val_ims, val_anns, val_batch_size, num_workers)"
      ],
      "execution_count": 7,
      "outputs": [
        {
          "output_type": "stream",
          "name": "stdout",
          "text": [
            "loading annotations into memory...\n",
            "Done (t=1.00s)\n",
            "creating index...\n",
            "index created!\n"
          ]
        }
      ]
    },
    {
      "cell_type": "markdown",
      "metadata": {
        "id": "dIVb6zNDclFM"
      },
      "source": [
        "### Part 3: Prepare the Model\n",
        " - Create a model name for experiments with these hyperparameters\n",
        "   - If previous training has occurred, this will be the path where that info is stored\n",
        " - Load a model of the correct depth"
      ]
    },
    {
      "cell_type": "code",
      "source": [
        "# Check the number of catgeories\n",
        "with open(train_anns, 'r') as f:\n",
        "    gt = json.load(f)\n",
        "\n",
        "cats = gt['categories']"
      ],
      "metadata": {
        "id": "P24IUiuyeWmi"
      },
      "execution_count": 8,
      "outputs": []
    },
    {
      "cell_type": "code",
      "metadata": {
        "id": "vLotT8DwPk7_",
        "colab": {
          "base_uri": "https://localhost:8080/",
          "height": 52
        },
        "outputId": "3c77ed34-85cc-425f-ab3e-002c1c33f915"
      },
      "source": [
        "model_folder = '/content/drive/MyDrive/Colab Notebooks/Experiments/Detection/FAIR1M/Train-50_Val-20_Test-30/'\n",
        "resnet_backbone = 18\n",
        "num_classes = len(cats) + 1\n",
        "model_name = f'resnet{resnet_backbone}fpn'\n",
        "data_name = 'DOTA'\n",
        "optim = 'SGD'\n",
        "lr = 0.0001\n",
        "mom = 0.9\n",
        "wd = 0.0005\n",
        "pretrained = True\n",
        "\n",
        "model_path = name_model(model_folder, num_classes, model_name, data_name, optim, lr, mom, wd, pretrained, train_batch_size)\n",
        "model_path"
      ],
      "execution_count": 9,
      "outputs": [
        {
          "output_type": "execute_result",
          "data": {
            "text/plain": [
              "'/content/drive/MyDrive/Colab Notebooks/Experiments/Detection/FAIR1M/Train-50_Val-20_Test-30/resnet18fpn/DOTA_classes_38_optim_SGD_lr_0p0001_mom_0p9_wd_0p0005_pretrained_True_batch_2.pt'"
            ],
            "application/vnd.google.colaboratory.intrinsic+json": {
              "type": "string"
            }
          },
          "metadata": {},
          "execution_count": 9
        }
      ]
    },
    {
      "cell_type": "code",
      "source": [
        "# get the model\n",
        "model = get_fasterrcnn(num_classes, pretrained, resnet_backbone)"
      ],
      "metadata": {
        "id": "m7VkE6vBcJJr"
      },
      "execution_count": 10,
      "outputs": []
    },
    {
      "cell_type": "markdown",
      "metadata": {
        "id": "tiRS_wNddB6C"
      },
      "source": [
        "### Part 4: Train the Model \n",
        "Set a few more hyperparameters, and display precision and recall on validation set at a frequency you set"
      ]
    },
    {
      "cell_type": "code",
      "metadata": {
        "id": "vmZ_gZgsPZWw",
        "colab": {
          "base_uri": "https://localhost:8080/"
        },
        "outputId": "32da592f-26f4-409f-b832-2fcb0f5fa6c7"
      },
      "source": [
        "#Choose a total number of epochs to train with this configuration\n",
        "num_epochs = 5\n",
        "\n",
        "data_loaders = [train_data_loader, val_data_loader]\n",
        "\n",
        "losses_train = train_fasterrcnn(model, model_path, data_loaders, optim, lr, mom, wd, num_epochs)"
      ],
      "execution_count": null,
      "outputs": [
        {
          "output_type": "stream",
          "name": "stdout",
          "text": [
            "Loading 1 epochs of training for fasterrcnn\n",
            "Training epoch 2 of 5\n"
          ]
        },
        {
          "output_type": "stream",
          "name": "stderr",
          "text": [
            "  1%|▏         | 109/7692 [00:20<23:39,  5.34it/s]"
          ]
        }
      ]
    }
  ]
}