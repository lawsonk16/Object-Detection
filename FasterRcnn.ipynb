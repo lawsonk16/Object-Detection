{
  "cells": [
    {
      "cell_type": "markdown",
      "metadata": {
        "id": "view-in-github",
        "colab_type": "text"
      },
      "source": [
        "<a href=\"https://colab.research.google.com/github/lawsonk16/Object-Detection/blob/main/FasterRcnn.ipynb\" target=\"_parent\"><img src=\"https://colab.research.google.com/assets/colab-badge.svg\" alt=\"Open In Colab\"/></a>"
      ]
    },
    {
      "cell_type": "markdown",
      "metadata": {
        "id": "8y7Bx0VfLwe7"
      },
      "source": [
        "# Train Model\n",
        "\n",
        "<i> Note: These paths are not universal - they are relative and require the user to set up their own data directory. With Colab it is difficult to do otherwise. </i>\n"
      ]
    },
    {
      "cell_type": "code",
      "execution_count": 1,
      "metadata": {
        "colab": {
          "base_uri": "https://localhost:8080/"
        },
        "id": "J17t-YtMP7IA",
        "outputId": "9bd23522-edff-4f36-fb93-326e544b578a"
      },
      "outputs": [
        {
          "output_type": "stream",
          "name": "stdout",
          "text": [
            "Mounted at /content/drive\n"
          ]
        }
      ],
      "source": [
        "from google.colab import drive\n",
        "drive.mount('/content/drive', force_remount=True)"
      ]
    },
    {
      "cell_type": "markdown",
      "metadata": {
        "id": "3cu91ZBjLu0o"
      },
      "source": [
        "### Step 1: Make Relevant Imports\n",
        "We have defined many custom scripts, so we need to add them to our system path"
      ]
    },
    {
      "cell_type": "code",
      "execution_count": 2,
      "metadata": {
        "colab": {
          "base_uri": "https://localhost:8080/"
        },
        "id": "v2SYXltMn_Qb",
        "outputId": "c7d37e79-6f88-4253-feb4-ba093c98c556"
      },
      "outputs": [
        {
          "output_type": "stream",
          "name": "stdout",
          "text": [
            "Looking in indexes: https://pypi.org/simple, https://us-python.pkg.dev/colab-wheels/public/simple/\n",
            "Collecting terminaltables\n",
            "  Downloading terminaltables-3.1.10-py2.py3-none-any.whl (15 kB)\n",
            "Installing collected packages: terminaltables\n",
            "Successfully installed terminaltables-3.1.10\n"
          ]
        }
      ],
      "source": [
        "! pip install terminaltables\n",
        "\n",
        "import sys\n",
        "paths = ['/content/drive/MyDrive/Colab Notebooks/scripts']\n",
        "\n",
        "for p in paths:\n",
        "    sys.path.append(p)\n",
        "\n",
        "import os\n",
        "import json\n",
        "import shutil\n",
        "\n",
        "from coco_utils.pytorch_coco_detect import *\n",
        "from ensemble import *\n",
        "from coco_utils.coco_help import *"
      ]
    },
    {
      "cell_type": "markdown",
      "metadata": {
        "id": "A5Eb3IlnI9VR"
      },
      "source": [
        "### Step 2: Unzip Data, Set Data Paths and Create Data Loaders"
      ]
    },
    {
      "cell_type": "code",
      "execution_count": 3,
      "metadata": {
        "id": "DgHZ2BfKaXEv"
      },
      "outputs": [],
      "source": [
        "data_zip_path = '/content/drive/MyDrive/Colab Notebooks/Clean Datasets/DOTA/DOTA_512.zip'\n",
        "data_path = '/content/'\n",
        "\n",
        "shutil.copy2(data_zip_path, data_path)\n",
        "\n",
        "shutil.unpack_archive(data_zip_path.split('/')[-1])\n",
        "os.remove(data_zip_path.split('/')[-1])"
      ]
    },
    {
      "cell_type": "code",
      "execution_count": 4,
      "metadata": {
        "id": "rBcqihaic6_u"
      },
      "outputs": [],
      "source": [
        "# change the data tag to match your dataset, if applicable\n",
        "data_tag = 'DOTA-512'\n",
        "\n",
        "train_ims = 'train/images/'\n",
        "val_ims = 'val/images/'\n",
        "\n",
        "train_anns = f'train/coco_train_512.json'\n",
        "val_anns = f'val/coco_val_512.json'\n",
        "\n",
        "make_cat_ids_match(train_anns, val_anns) "
      ]
    },
    {
      "cell_type": "code",
      "execution_count": 5,
      "metadata": {
        "colab": {
          "base_uri": "https://localhost:8080/"
        },
        "id": "MDETuXQdc9j-",
        "outputId": "beb7a778-ce1e-4089-c949-7b13466a309e"
      },
      "outputs": [
        {
          "output_type": "stream",
          "name": "stdout",
          "text": [
            "loading annotations into memory...\n",
            "Done (t=0.99s)\n",
            "creating index...\n",
            "index created!\n",
            "loading annotations into memory...\n",
            "Done (t=0.58s)\n",
            "creating index...\n",
            "index created!\n"
          ]
        }
      ],
      "source": [
        "num_workers = 0\n",
        "train_batch_size = 2\n",
        "train_data_loader = make_train_loader(train_ims, train_anns, train_batch_size, num_workers)\n",
        "\n",
        "num_workers = 0\n",
        "val_batch_size = 1\n",
        "val_data_loader = make_test_loader(val_ims, val_anns, val_batch_size, num_workers)"
      ]
    },
    {
      "cell_type": "markdown",
      "metadata": {
        "id": "dIVb6zNDclFM"
      },
      "source": [
        "### Part 3: Prepare the Model\n",
        " - Create a model name for experiments with these hyperparameters\n",
        "   - If previous training has occurred, this will be the path where that info is stored\n",
        " - Load a model of the correct depth"
      ]
    },
    {
      "cell_type": "code",
      "execution_count": 6,
      "metadata": {
        "id": "P24IUiuyeWmi"
      },
      "outputs": [],
      "source": [
        "# Check the number of catgeories\n",
        "with open(train_anns, 'r') as f:\n",
        "    gt = json.load(f)\n",
        "\n",
        "cats = gt['categories']"
      ]
    },
    {
      "cell_type": "code",
      "execution_count": 7,
      "metadata": {
        "colab": {
          "base_uri": "https://localhost:8080/",
          "height": 52
        },
        "id": "vLotT8DwPk7_",
        "outputId": "6335c6fd-9080-4551-c858-0dd585f06542"
      },
      "outputs": [
        {
          "output_type": "execute_result",
          "data": {
            "text/plain": [
              "'/content/drive/MyDrive/Colab Notebooks/Experiments/Detection/DOTA/regular/resnet50fpn/classes_17_optim_SGD_lr_0p0001_mom_0p9_wd_0p0005_pretrained_True_batch_2/best_weights.pt'"
            ],
            "application/vnd.google.colaboratory.intrinsic+json": {
              "type": "string"
            }
          },
          "metadata": {},
          "execution_count": 7
        }
      ],
      "source": [
        "### Modify these variables for your experiment ###\n",
        "exp_folder = '/content/drive/MyDrive/Colab Notebooks/Experiments/Detection/'\n",
        "data_name = 'DOTA'\n",
        "data_split = 'regular'\n",
        "\n",
        "resnet_backbone = 50\n",
        "num_classes = len(cats) + 1\n",
        "\n",
        "optim = 'SGD'\n",
        "lr = 0.0001\n",
        "mom = 0.9\n",
        "wd = 0.0005\n",
        "pretrained = True\n",
        "\n",
        "model_path = name_model(exp_folder, data_name, data_split, resnet_backbone, train_batch_size, num_classes, optim, lr, mom, wd, pretrained)\n",
        "model_path"
      ]
    },
    {
      "cell_type": "markdown",
      "metadata": {
        "id": "tiRS_wNddB6C"
      },
      "source": [
        "### Part 4: Train the Model \n",
        "Set a few more hyperparameters, and display precision and recall on validation set at a frequency you set"
      ]
    },
    {
      "cell_type": "code",
      "execution_count": 8,
      "metadata": {
        "colab": {
          "base_uri": "https://localhost:8080/",
          "height": 1000,
          "referenced_widgets": [
            "60b5a7f0fe804fdebc414149862e6e5f",
            "3ae04fb3a72547ac899206d27ae15807",
            "43f56a0f5e9742bfaf7a2811d23f9bd6",
            "f7e2d5da505f434183f420f1ed117dcf",
            "f7e135f84d6f48bda49f1871fbae253a",
            "e770fad4cb3846a982f0561613a04b85",
            "4d5e6a0b9b7f4ce98ea6e2eaa91ee542",
            "b0fc6ecac1e34267971c620505b8c339",
            "69bd331fba804ed880932b277f570036",
            "61babff4737d4f4b9fe426e2343e8c44",
            "77298d2e42004154a782886378107f15"
          ]
        },
        "id": "vmZ_gZgsPZWw",
        "outputId": "66ccd017-9c36-4f89-a525-33b3cde06eff"
      },
      "outputs": [
        {
          "output_type": "stream",
          "name": "stderr",
          "text": [
            "Downloading: \"https://download.pytorch.org/models/resnet50-0676ba61.pth\" to /root/.cache/torch/hub/checkpoints/resnet50-0676ba61.pth\n"
          ]
        },
        {
          "output_type": "display_data",
          "data": {
            "text/plain": [
              "  0%|          | 0.00/97.8M [00:00<?, ?B/s]"
            ],
            "application/vnd.jupyter.widget-view+json": {
              "version_major": 2,
              "version_minor": 0,
              "model_id": "60b5a7f0fe804fdebc414149862e6e5f"
            }
          },
          "metadata": {}
        },
        {
          "output_type": "stream",
          "name": "stdout",
          "text": [
            "Loading 77 epochs of training for fasterrcnn\n",
            "Training epoch 78 of 100\n"
          ]
        },
        {
          "output_type": "stream",
          "name": "stderr",
          "text": [
            "Training: 100%|██████████| 6338/6338 [24:19<00:00,  4.34it/s]\n",
            "Validation: 100%|██████████| 4036/4036 [04:59<00:00, 13.50it/s]\n"
          ]
        },
        {
          "output_type": "stream",
          "name": "stdout",
          "text": [
            "Training epoch 79 of 100\n"
          ]
        },
        {
          "output_type": "stream",
          "name": "stderr",
          "text": [
            "Training: 100%|██████████| 6338/6338 [24:17<00:00,  4.35it/s]\n",
            "Validation: 100%|██████████| 4036/4036 [04:58<00:00, 13.53it/s]\n"
          ]
        },
        {
          "output_type": "stream",
          "name": "stdout",
          "text": [
            "Training epoch 80 of 100\n"
          ]
        },
        {
          "output_type": "stream",
          "name": "stderr",
          "text": [
            "Training: 100%|██████████| 6338/6338 [24:17<00:00,  4.35it/s]\n",
            "Validation: 100%|██████████| 4036/4036 [04:58<00:00, 13.50it/s]\n"
          ]
        },
        {
          "output_type": "stream",
          "name": "stdout",
          "text": [
            "Evalutation on epoch 80\n"
          ]
        },
        {
          "output_type": "stream",
          "name": "stderr",
          "text": [
            "Getting val detections: 100%|██████████| 4036/4036 [04:47<00:00, 14.03it/s]\n"
          ]
        },
        {
          "output_type": "stream",
          "name": "stdout",
          "text": [
            "Saved model history\n",
            "Training epoch 81 of 100\n"
          ]
        },
        {
          "output_type": "stream",
          "name": "stderr",
          "text": [
            "Training: 100%|██████████| 6338/6338 [24:19<00:00,  4.34it/s]\n",
            "Validation: 100%|██████████| 4036/4036 [04:55<00:00, 13.67it/s]\n"
          ]
        },
        {
          "output_type": "stream",
          "name": "stdout",
          "text": [
            "Training epoch 82 of 100\n"
          ]
        },
        {
          "output_type": "stream",
          "name": "stderr",
          "text": [
            "Training: 100%|██████████| 6338/6338 [24:19<00:00,  4.34it/s]\n",
            "Validation: 100%|██████████| 4036/4036 [04:56<00:00, 13.60it/s]\n"
          ]
        },
        {
          "output_type": "stream",
          "name": "stdout",
          "text": [
            "Training epoch 83 of 100\n"
          ]
        },
        {
          "output_type": "stream",
          "name": "stderr",
          "text": [
            "Training: 100%|██████████| 6338/6338 [24:15<00:00,  4.35it/s]\n",
            "Validation: 100%|██████████| 4036/4036 [04:56<00:00, 13.63it/s]\n"
          ]
        },
        {
          "output_type": "stream",
          "name": "stdout",
          "text": [
            "Lowest val loss: 0.4659561812877655\n",
            "Training epoch 84 of 100\n"
          ]
        },
        {
          "output_type": "stream",
          "name": "stderr",
          "text": [
            "Training: 100%|██████████| 6338/6338 [24:17<00:00,  4.35it/s]\n",
            "Validation: 100%|██████████| 4036/4036 [04:55<00:00, 13.67it/s]\n"
          ]
        },
        {
          "output_type": "stream",
          "name": "stdout",
          "text": [
            "Training epoch 85 of 100\n"
          ]
        },
        {
          "output_type": "stream",
          "name": "stderr",
          "text": [
            "Training: 100%|██████████| 6338/6338 [24:15<00:00,  4.35it/s]\n",
            "Validation: 100%|██████████| 4036/4036 [04:53<00:00, 13.74it/s]\n"
          ]
        },
        {
          "output_type": "stream",
          "name": "stdout",
          "text": [
            "Training epoch 86 of 100\n"
          ]
        },
        {
          "output_type": "stream",
          "name": "stderr",
          "text": [
            "Training: 100%|██████████| 6338/6338 [24:15<00:00,  4.35it/s]\n",
            "Validation: 100%|██████████| 4036/4036 [04:53<00:00, 13.77it/s]\n"
          ]
        },
        {
          "output_type": "stream",
          "name": "stdout",
          "text": [
            "Training epoch 87 of 100\n"
          ]
        },
        {
          "output_type": "stream",
          "name": "stderr",
          "text": [
            "Training: 100%|██████████| 6338/6338 [24:14<00:00,  4.36it/s]\n",
            "Validation: 100%|██████████| 4036/4036 [04:53<00:00, 13.76it/s]\n"
          ]
        },
        {
          "output_type": "stream",
          "name": "stdout",
          "text": [
            "Training epoch 88 of 100\n"
          ]
        },
        {
          "output_type": "stream",
          "name": "stderr",
          "text": [
            "Training: 100%|██████████| 6338/6338 [24:16<00:00,  4.35it/s]\n",
            "Validation: 100%|██████████| 4036/4036 [04:54<00:00, 13.72it/s]\n"
          ]
        },
        {
          "output_type": "stream",
          "name": "stdout",
          "text": [
            "Training epoch 89 of 100\n"
          ]
        },
        {
          "output_type": "stream",
          "name": "stderr",
          "text": [
            "Training: 100%|██████████| 6338/6338 [24:15<00:00,  4.36it/s]\n",
            "Validation: 100%|██████████| 4036/4036 [04:53<00:00, 13.74it/s]\n"
          ]
        },
        {
          "output_type": "stream",
          "name": "stdout",
          "text": [
            "Training epoch 90 of 100\n"
          ]
        },
        {
          "output_type": "stream",
          "name": "stderr",
          "text": [
            "Training: 100%|██████████| 6338/6338 [24:16<00:00,  4.35it/s]\n",
            "Validation: 100%|██████████| 4036/4036 [04:54<00:00, 13.72it/s]\n"
          ]
        },
        {
          "output_type": "stream",
          "name": "stdout",
          "text": [
            "Evalutation on epoch 90\n"
          ]
        },
        {
          "output_type": "stream",
          "name": "stderr",
          "text": [
            "Getting val detections: 100%|██████████| 4036/4036 [04:46<00:00, 14.10it/s]\n"
          ]
        },
        {
          "output_type": "stream",
          "name": "stdout",
          "text": [
            "Saved model history\n",
            "Training epoch 91 of 100\n"
          ]
        },
        {
          "output_type": "stream",
          "name": "stderr",
          "text": [
            "Training: 100%|██████████| 6338/6338 [24:18<00:00,  4.34it/s]\n",
            "Validation: 100%|██████████| 4036/4036 [04:54<00:00, 13.69it/s]\n"
          ]
        },
        {
          "output_type": "stream",
          "name": "stdout",
          "text": [
            "Training epoch 92 of 100\n"
          ]
        },
        {
          "output_type": "stream",
          "name": "stderr",
          "text": [
            "Training: 100%|██████████| 6338/6338 [24:16<00:00,  4.35it/s]\n",
            "Validation: 100%|██████████| 4036/4036 [04:53<00:00, 13.74it/s]\n"
          ]
        },
        {
          "output_type": "stream",
          "name": "stdout",
          "text": [
            "Training epoch 93 of 100\n"
          ]
        },
        {
          "output_type": "stream",
          "name": "stderr",
          "text": [
            "Training: 100%|██████████| 6338/6338 [24:16<00:00,  4.35it/s]\n",
            "Validation: 100%|██████████| 4036/4036 [04:53<00:00, 13.75it/s]\n"
          ]
        },
        {
          "output_type": "stream",
          "name": "stdout",
          "text": [
            "Training epoch 94 of 100\n"
          ]
        },
        {
          "output_type": "stream",
          "name": "stderr",
          "text": [
            "Training: 100%|██████████| 6338/6338 [24:15<00:00,  4.35it/s]\n",
            "Validation: 100%|██████████| 4036/4036 [04:52<00:00, 13.79it/s]\n"
          ]
        },
        {
          "output_type": "stream",
          "name": "stdout",
          "text": [
            "Training epoch 95 of 100\n"
          ]
        },
        {
          "output_type": "stream",
          "name": "stderr",
          "text": [
            "Training: 100%|██████████| 6338/6338 [24:17<00:00,  4.35it/s]\n",
            "Validation: 100%|██████████| 4036/4036 [04:53<00:00, 13.75it/s]\n"
          ]
        },
        {
          "output_type": "stream",
          "name": "stdout",
          "text": [
            "Training epoch 96 of 100\n"
          ]
        },
        {
          "output_type": "stream",
          "name": "stderr",
          "text": [
            "Training: 100%|██████████| 6338/6338 [24:16<00:00,  4.35it/s]\n",
            "Validation: 100%|██████████| 4036/4036 [04:56<00:00, 13.62it/s]\n"
          ]
        },
        {
          "output_type": "stream",
          "name": "stdout",
          "text": [
            "Lowest val loss: 0.45645827054977417\n",
            "Training epoch 97 of 100\n"
          ]
        },
        {
          "output_type": "stream",
          "name": "stderr",
          "text": [
            "Training: 100%|██████████| 6338/6338 [24:19<00:00,  4.34it/s]\n",
            "Validation: 100%|██████████| 4036/4036 [04:56<00:00, 13.60it/s]\n"
          ]
        },
        {
          "output_type": "stream",
          "name": "stdout",
          "text": [
            "Lowest val loss: 0.45381221175193787\n",
            "Training epoch 98 of 100\n"
          ]
        },
        {
          "output_type": "stream",
          "name": "stderr",
          "text": [
            "Training: 100%|██████████| 6338/6338 [24:19<00:00,  4.34it/s]\n",
            "Validation: 100%|██████████| 4036/4036 [04:53<00:00, 13.73it/s]\n"
          ]
        },
        {
          "output_type": "stream",
          "name": "stdout",
          "text": [
            "Training epoch 99 of 100\n"
          ]
        },
        {
          "output_type": "stream",
          "name": "stderr",
          "text": [
            "Training: 100%|██████████| 6338/6338 [24:17<00:00,  4.35it/s]\n",
            "Validation: 100%|██████████| 4036/4036 [04:54<00:00, 13.70it/s]\n"
          ]
        },
        {
          "output_type": "stream",
          "name": "stdout",
          "text": [
            "Training epoch 100 of 100\n"
          ]
        },
        {
          "output_type": "stream",
          "name": "stderr",
          "text": [
            "Training: 100%|██████████| 6338/6338 [24:18<00:00,  4.35it/s]\n",
            "Validation: 100%|██████████| 4036/4036 [04:54<00:00, 13.70it/s]\n"
          ]
        },
        {
          "output_type": "stream",
          "name": "stdout",
          "text": [
            "Evalutation on epoch 100\n"
          ]
        },
        {
          "output_type": "stream",
          "name": "stderr",
          "text": [
            "Getting val detections: 100%|██████████| 4036/4036 [04:47<00:00, 14.02it/s]\n"
          ]
        },
        {
          "output_type": "stream",
          "name": "stdout",
          "text": [
            "Saved model history\n"
          ]
        }
      ],
      "source": [
        "# Choose a total number of epochs to train with this configuration\n",
        "num_epochs = 100\n",
        "\n",
        "# Evaluation Criteria\n",
        "start_eval_epoch = 5\n",
        "eval_freq = 10\n",
        "iou_nms = 0.9\n",
        "\n",
        "# How often to save\n",
        "save_freq = 10\n",
        "\n",
        "# wrap up the data\n",
        "data_loaders = [train_data_loader, val_data_loader]\n",
        "\n",
        "# get the model\n",
        "model = get_fasterrcnn(num_classes, pretrained, resnet_backbone)\n",
        "\n",
        "losses = train_fasterrcnn(model, model_path, data_loaders, \n",
        "                                optim, lr, mom, wd, \n",
        "                                num_epochs, start_eval_epoch, eval_freq, iou_nms, save_freq)"
      ]
    },
    {
      "cell_type": "markdown",
      "metadata": {
        "id": "u3-aKD88xcUu"
      },
      "source": [
        "## Part 5: Evaluate"
      ]
    },
    {
      "cell_type": "code",
      "execution_count": 11,
      "metadata": {
        "colab": {
          "base_uri": "https://localhost:8080/"
        },
        "id": "l7XV42U6xoNk",
        "outputId": "45a09cff-f9ac-4913-cef6-ea86d1ecbb88"
      },
      "outputs": [
        {
          "output_type": "stream",
          "name": "stderr",
          "text": [
            "100%|██████████| 4036/4036 [00:23<00:00, 172.84it/s]\n",
            "Computing AP: 100%|██████████| 16/16 [00:00<00:00, 69.03it/s]\n"
          ]
        },
        {
          "output_type": "stream",
          "name": "stdout",
          "text": [
            "+-------+--------------------+---------+\n",
            "| Index | Class name         | AP      |\n",
            "+-------+--------------------+---------+\n",
            "| 0     | small-vehicle      | 0.57656 |\n",
            "| 1     | harbor             | 0.79393 |\n",
            "| 2     | large-vehicle      | 0.76664 |\n",
            "| 3     | ground-track-field | 0.45741 |\n",
            "| 4     | soccer-ball-field  | 0.53775 |\n",
            "| 5     | bridge             | 0.58691 |\n",
            "| 6     | basketball-court   | 0.49665 |\n",
            "| 7     | tennis-court       | 0.90529 |\n",
            "| 8     | ship               | 0.86181 |\n",
            "| 9     | roundabout         | 0.72398 |\n",
            "| 10    | baseball-diamond   | 0.75199 |\n",
            "| 11    | swimming-pool      | 0.73256 |\n",
            "| 12    | plane              | 0.92413 |\n",
            "| 13    | storage-tank       | 0.74792 |\n",
            "| 14    | helicopter         | 0.37748 |\n",
            "| 15    | container-crane    | 0.07222 |\n",
            "+-------+--------------------+---------+\n",
            "---- mAP 0.6445764341361712\n",
            "---- Precision 0.4394684327748394\n",
            "---- Recall 0.7396737428342746\n"
          ]
        }
      ],
      "source": [
        "conf_thresh = 0.2\n",
        "iou_thresh = 0.3\n",
        "nms_thresh = 0.7\n",
        "save = True\n",
        "\n",
        "compute_latest_dt_metrics(model_path, val_anns, conf_thresh, iou_thresh, nms_thresh, save)"
      ]
    },
    {
      "cell_type": "markdown",
      "source": [
        "# New De"
      ],
      "metadata": {
        "id": "h6iIa2n4T7a-"
      }
    },
    {
      "cell_type": "code",
      "source": [
        "plot_model_performance(model_path)"
      ],
      "metadata": {
        "id": "VJ_zTMC19kBm",
        "colab": {
          "base_uri": "https://localhost:8080/",
          "height": 265
        },
        "outputId": "01350fc5-0a1c-49a6-bb5a-c0dbd52168e1"
      },
      "execution_count": 10,
      "outputs": [
        {
          "output_type": "display_data",
          "data": {
            "text/plain": [
              "<Figure size 432x288 with 1 Axes>"
            ],
            "image/png": "[encoded data removed]"
          },
          "metadata": {
            "needs_background": "light"
          }
        }
      ]
    }
  ],
  "metadata": {
    "accelerator": "GPU",
    "colab": {
      "collapsed_sections": [],
      "name": "FasterRcnn.ipynb",
      "provenance": [],
      "include_colab_link": true
    },
    "kernelspec": {
      "display_name": "Python 3",
      "name": "python3"
    },
    "widgets": {
      "application/vnd.jupyter.widget-state+json": {
        "60b5a7f0fe804fdebc414149862e6e5f": {
          "model_module": "@jupyter-widgets/controls",
          "model_name": "HBoxModel",
          "model_module_version": "1.5.0",
          "state": {
            "_dom_classes": [],
            "_model_module": "@jupyter-widgets/controls",
            "_model_module_version": "1.5.0",
            "_model_name": "HBoxModel",
            "_view_count": null,
            "_view_module": "@jupyter-widgets/controls",
            "_view_module_version": "1.5.0",
            "_view_name": "HBoxView",
            "box_style": "",
            "children": [
              "IPY_MODEL_3ae04fb3a72547ac899206d27ae15807",
              "IPY_MODEL_43f56a0f5e9742bfaf7a2811d23f9bd6",
              "IPY_MODEL_f7e2d5da505f434183f420f1ed117dcf"
            ],
            "layout": "IPY_MODEL_f7e135f84d6f48bda49f1871fbae253a"
          }
        },
        "3ae04fb3a72547ac899206d27ae15807": {
          "model_module": "@jupyter-widgets/controls",
          "model_name": "HTMLModel",
          "model_module_version": "1.5.0",
          "state": {
            "_dom_classes": [],
            "_model_module": "@jupyter-widgets/controls",
            "_model_module_version": "1.5.0",
            "_model_name": "HTMLModel",
            "_view_count": null,
            "_view_module": "@jupyter-widgets/controls",
            "_view_module_version": "1.5.0",
            "_view_name": "HTMLView",
            "description": "",
            "description_tooltip": null,
            "layout": "IPY_MODEL_e770fad4cb3846a982f0561613a04b85",
            "placeholder": "​",
            "style": "IPY_MODEL_4d5e6a0b9b7f4ce98ea6e2eaa91ee542",
            "value": "100%"
          }
        },
        "43f56a0f5e9742bfaf7a2811d23f9bd6": {
          "model_module": "@jupyter-widgets/controls",
          "model_name": "FloatProgressModel",
          "model_module_version": "1.5.0",
          "state": {
            "_dom_classes": [],
            "_model_module": "@jupyter-widgets/controls",
            "_model_module_version": "1.5.0",
            "_model_name": "FloatProgressModel",
            "_view_count": null,
            "_view_module": "@jupyter-widgets/controls",
            "_view_module_version": "1.5.0",
            "_view_name": "ProgressView",
            "bar_style": "success",
            "description": "",
            "description_tooltip": null,
            "layout": "IPY_MODEL_b0fc6ecac1e34267971c620505b8c339",
            "max": 102530333,
            "min": 0,
            "orientation": "horizontal",
            "style": "IPY_MODEL_69bd331fba804ed880932b277f570036",
            "value": 102530333
          }
        },
        "f7e2d5da505f434183f420f1ed117dcf": {
          "model_module": "@jupyter-widgets/controls",
          "model_name": "HTMLModel",
          "model_module_version": "1.5.0",
          "state": {
            "_dom_classes": [],
            "_model_module": "@jupyter-widgets/controls",
            "_model_module_version": "1.5.0",
            "_model_name": "HTMLModel",
            "_view_count": null,
            "_view_module": "@jupyter-widgets/controls",
            "_view_module_version": "1.5.0",
            "_view_name": "HTMLView",
            "description": "",
            "description_tooltip": null,
            "layout": "IPY_MODEL_61babff4737d4f4b9fe426e2343e8c44",
            "placeholder": "​",
            "style": "IPY_MODEL_77298d2e42004154a782886378107f15",
            "value": " 97.8M/97.8M [00:01&lt;00:00, 123MB/s]"
          }
        },
        "f7e135f84d6f48bda49f1871fbae253a": {
          "model_module": "@jupyter-widgets/base",
          "model_name": "LayoutModel",
          "model_module_version": "1.2.0",
          "state": {
            "_model_module": "@jupyter-widgets/base",
            "_model_module_version": "1.2.0",
            "_model_name": "LayoutModel",
            "_view_count": null,
            "_view_module": "@jupyter-widgets/base",
            "_view_module_version": "1.2.0",
            "_view_name": "LayoutView",
            "align_content": null,
            "align_items": null,
            "align_self": null,
            "border": null,
            "bottom": null,
            "display": null,
            "flex": null,
            "flex_flow": null,
            "grid_area": null,
            "grid_auto_columns": null,
            "grid_auto_flow": null,
            "grid_auto_rows": null,
            "grid_column": null,
            "grid_gap": null,
            "grid_row": null,
            "grid_template_areas": null,
            "grid_template_columns": null,
            "grid_template_rows": null,
            "height": null,
            "justify_content": null,
            "justify_items": null,
            "left": null,
            "margin": null,
            "max_height": null,
            "max_width": null,
            "min_height": null,
            "min_width": null,
            "object_fit": null,
            "object_position": null,
            "order": null,
            "overflow": null,
            "overflow_x": null,
            "overflow_y": null,
            "padding": null,
            "right": null,
            "top": null,
            "visibility": null,
            "width": null
          }
        },
        "e770fad4cb3846a982f0561613a04b85": {
          "model_module": "@jupyter-widgets/base",
          "model_name": "LayoutModel",
          "model_module_version": "1.2.0",
          "state": {
            "_model_module": "@jupyter-widgets/base",
            "_model_module_version": "1.2.0",
            "_model_name": "LayoutModel",
            "_view_count": null,
            "_view_module": "@jupyter-widgets/base",
            "_view_module_version": "1.2.0",
            "_view_name": "LayoutView",
            "align_content": null,
            "align_items": null,
            "align_self": null,
            "border": null,
            "bottom": null,
            "display": null,
            "flex": null,
            "flex_flow": null,
            "grid_area": null,
            "grid_auto_columns": null,
            "grid_auto_flow": null,
            "grid_auto_rows": null,
            "grid_column": null,
            "grid_gap": null,
            "grid_row": null,
            "grid_template_areas": null,
            "grid_template_columns": null,
            "grid_template_rows": null,
            "height": null,
            "justify_content": null,
            "justify_items": null,
            "left": null,
            "margin": null,
            "max_height": null,
            "max_width": null,
            "min_height": null,
            "min_width": null,
            "object_fit": null,
            "object_position": null,
            "order": null,
            "overflow": null,
            "overflow_x": null,
            "overflow_y": null,
            "padding": null,
            "right": null,
            "top": null,
            "visibility": null,
            "width": null
          }
        },
        "4d5e6a0b9b7f4ce98ea6e2eaa91ee542": {
          "model_module": "@jupyter-widgets/controls",
          "model_name": "DescriptionStyleModel",
          "model_module_version": "1.5.0",
          "state": {
            "_model_module": "@jupyter-widgets/controls",
            "_model_module_version": "1.5.0",
            "_model_name": "DescriptionStyleModel",
            "_view_count": null,
            "_view_module": "@jupyter-widgets/base",
            "_view_module_version": "1.2.0",
            "_view_name": "StyleView",
            "description_width": ""
          }
        },
        "b0fc6ecac1e34267971c620505b8c339": {
          "model_module": "@jupyter-widgets/base",
          "model_name": "LayoutModel",
          "model_module_version": "1.2.0",
          "state": {
            "_model_module": "@jupyter-widgets/base",
            "_model_module_version": "1.2.0",
            "_model_name": "LayoutModel",
            "_view_count": null,
            "_view_module": "@jupyter-widgets/base",
            "_view_module_version": "1.2.0",
            "_view_name": "LayoutView",
            "align_content": null,
            "align_items": null,
            "align_self": null,
            "border": null,
            "bottom": null,
            "display": null,
            "flex": null,
            "flex_flow": null,
            "grid_area": null,
            "grid_auto_columns": null,
            "grid_auto_flow": null,
            "grid_auto_rows": null,
            "grid_column": null,
            "grid_gap": null,
            "grid_row": null,
            "grid_template_areas": null,
            "grid_template_columns": null,
            "grid_template_rows": null,
            "height": null,
            "justify_content": null,
            "justify_items": null,
            "left": null,
            "margin": null,
            "max_height": null,
            "max_width": null,
            "min_height": null,
            "min_width": null,
            "object_fit": null,
            "object_position": null,
            "order": null,
            "overflow": null,
            "overflow_x": null,
            "overflow_y": null,
            "padding": null,
            "right": null,
            "top": null,
            "visibility": null,
            "width": null
          }
        },
        "69bd331fba804ed880932b277f570036": {
          "model_module": "@jupyter-widgets/controls",
          "model_name": "ProgressStyleModel",
          "model_module_version": "1.5.0",
          "state": {
            "_model_module": "@jupyter-widgets/controls",
            "_model_module_version": "1.5.0",
            "_model_name": "ProgressStyleModel",
            "_view_count": null,
            "_view_module": "@jupyter-widgets/base",
            "_view_module_version": "1.2.0",
            "_view_name": "StyleView",
            "bar_color": null,
            "description_width": ""
          }
        },
        "61babff4737d4f4b9fe426e2343e8c44": {
          "model_module": "@jupyter-widgets/base",
          "model_name": "LayoutModel",
          "model_module_version": "1.2.0",
          "state": {
            "_model_module": "@jupyter-widgets/base",
            "_model_module_version": "1.2.0",
            "_model_name": "LayoutModel",
            "_view_count": null,
            "_view_module": "@jupyter-widgets/base",
            "_view_module_version": "1.2.0",
            "_view_name": "LayoutView",
            "align_content": null,
            "align_items": null,
            "align_self": null,
            "border": null,
            "bottom": null,
            "display": null,
            "flex": null,
            "flex_flow": null,
            "grid_area": null,
            "grid_auto_columns": null,
            "grid_auto_flow": null,
            "grid_auto_rows": null,
            "grid_column": null,
            "grid_gap": null,
            "grid_row": null,
            "grid_template_areas": null,
            "grid_template_columns": null,
            "grid_template_rows": null,
            "height": null,
            "justify_content": null,
            "justify_items": null,
            "left": null,
            "margin": null,
            "max_height": null,
            "max_width": null,
            "min_height": null,
            "min_width": null,
            "object_fit": null,
            "object_position": null,
            "order": null,
            "overflow": null,
            "overflow_x": null,
            "overflow_y": null,
            "padding": null,
            "right": null,
            "top": null,
            "visibility": null,
            "width": null
          }
        },
        "77298d2e42004154a782886378107f15": {
          "model_module": "@jupyter-widgets/controls",
          "model_name": "DescriptionStyleModel",
          "model_module_version": "1.5.0",
          "state": {
            "_model_module": "@jupyter-widgets/controls",
            "_model_module_version": "1.5.0",
            "_model_name": "DescriptionStyleModel",
            "_view_count": null,
            "_view_module": "@jupyter-widgets/base",
            "_view_module_version": "1.2.0",
            "_view_name": "StyleView",
            "description_width": ""
          }
        }
      }
    }
  },
  "nbformat": 4,
  "nbformat_minor": 0
}