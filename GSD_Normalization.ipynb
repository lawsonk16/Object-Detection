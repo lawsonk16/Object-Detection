{
  "cells": [
    {
      "cell_type": "markdown",
      "metadata": {
        "id": "view-in-github",
        "colab_type": "text"
      },
      "source": [
        "<a href=\"https://colab.research.google.com/github/lawsonk16/Object-Detection/blob/main/GSD_Normalization.ipynb\" target=\"_parent\"><img src=\"https://colab.research.google.com/assets/colab-badge.svg\" alt=\"Open In Colab\"/></a>"
      ]
    },
    {
      "cell_type": "markdown",
      "metadata": {
        "id": "bMg4uWTTiYct"
      },
      "source": [
        "# GSD Normalization\n"
      ]
    },
    {
      "cell_type": "markdown",
      "metadata": {
        "id": "yReB4M11jgN2"
      },
      "source": [
        "#### Step 1: Imports"
      ]
    },
    {
      "cell_type": "code",
      "execution_count": 1,
      "metadata": {
        "colab": {
          "base_uri": "https://localhost:8080/"
        },
        "id": "FaIgTv5Mjaee",
        "outputId": "c86a67b8-7c6a-4240-8d93-963cc9ae1a60"
      },
      "outputs": [
        {
          "output_type": "stream",
          "name": "stdout",
          "text": [
            "Drive already mounted at /content/drive; to attempt to forcibly remount, call drive.mount(\"/content/drive\", force_remount=True).\n"
          ]
        }
      ],
      "source": [
        "from google.colab import drive\n",
        "drive.mount('/content/drive')"
      ]
    },
    {
      "cell_type": "code",
      "execution_count": 2,
      "metadata": {
        "id": "SydA2va3iRUz"
      },
      "outputs": [],
      "source": [
        "import sys\n",
        "paths = ['/content/drive/MyDrive/Colab Notebooks/scripts']\n",
        "\n",
        "for p in paths:\n",
        "    sys.path.append(p)\n",
        "\n",
        "import os\n",
        "import json\n",
        "import shutil\n",
        "from tqdm import tqdm\n",
        "from PIL import Image\n",
        "\n",
        "from coco_utils.coco_help import *"
      ]
    },
    {
      "cell_type": "markdown",
      "metadata": {
        "id": "LB4c8RjHjxND"
      },
      "source": [
        "#### Import Data"
      ]
    },
    {
      "cell_type": "code",
      "execution_count": 6,
      "metadata": {
        "id": "Csb_MYiDiayV"
      },
      "outputs": [],
      "source": [
        "data_zip_path = '/content/drive/MyDrive/Colab Notebooks/Clean Datasets/DOTA/DOTA-COCO.zip'\n",
        "data_path = '/content/DOTA/'\n",
        "\n",
        "os.mkdir(data_path)\n",
        "\n",
        "shutil.copy2(data_zip_path, '/content/')\n",
        "\n",
        "shutil.unpack_archive(data_zip_path.split('/')[-1], data_path)\n",
        "os.remove(data_zip_path.split('/')[-1])"
      ]
    },
    {
      "cell_type": "code",
      "execution_count": 7,
      "metadata": {
        "id": "t5U_G4C4jwvV"
      },
      "outputs": [],
      "source": [
        "train_ims = f'{data_path}train/images/'\n",
        "val_ims = f'{data_path}val/images/'\n",
        "\n",
        "train_anns = f'{data_path}train/train_COCO.json'\n",
        "val_anns = f'{data_path}val/val_COCO.json'\n",
        "\n",
        "# make all of the annotations use matching category IDs, just in case\n",
        "make_cat_ids_match(train_anns, val_anns) "
      ]
    },
    {
      "cell_type": "markdown",
      "metadata": {
        "id": "6ghOJ8u6kY8_"
      },
      "source": [
        "#### Create New GSD Dataset"
      ]
    },
    {
      "cell_type": "code",
      "execution_count": null,
      "metadata": {
        "colab": {
          "base_uri": "https://localhost:8080/"
        },
        "id": "0aNFJ-72saos",
        "outputId": "40dce233-a9f9-4caa-dfc3-2e2d24083ef7"
      },
      "outputs": [
        {
          "output_type": "stream",
          "name": "stderr",
          "text": [
            "  7%|▋         | 96/1411 [04:56<11:09,  1.96it/s]"
          ]
        }
      ],
      "source": [
        "gsd = 0.3\n",
        "new_folder = 'DOTA_GSD_0p3'\n",
        "if not os.path.exists(new_folder):\n",
        "  os.mkdir(new_folder)\n",
        "  \n",
        "\n",
        "gsd_norm(gsd, train_ims, train_anns, f'{new_folder}/train/')"
      ]
    },
    {
      "cell_type": "code",
      "execution_count": null,
      "metadata": {
        "id": "sJNJ30q7tKRj"
      },
      "outputs": [],
      "source": [
        "gsd_norm(gsd, val_ims, val_anns, f'{new_folder}/val/')"
      ]
    },
    {
      "cell_type": "code",
      "execution_count": null,
      "metadata": {
        "id": "RozaZVArYf8f"
      },
      "outputs": [],
      "source": [
        "train_json = '/content/DOTA_GSD_0p3/train/COCO.json'\n",
        "train_ims = '/content/DOTA_GSD_0p3/train/images/'"
      ]
    },
    {
      "cell_type": "code",
      "execution_count": null,
      "metadata": {
        "id": "r3yajbnNO8TG"
      },
      "outputs": [],
      "source": [
        "display_random_ims(1, train_json, train_ims, (10,10))"
      ]
    },
    {
      "cell_type": "code",
      "source": [],
      "metadata": {
        "id": "w3YX0WFx2RXp"
      },
      "execution_count": null,
      "outputs": []
    }
  ],
  "metadata": {
    "colab": {
      "provenance": [],
      "mount_file_id": "1MohfCI5rINj10U6TnSLSSyMaPpHazx28",
      "authorship_tag": "ABX9TyPK6fHkFRPM4TU0NE5X4lhV",
      "include_colab_link": true
    },
    "kernelspec": {
      "display_name": "Python 3",
      "name": "python3"
    },
    "language_info": {
      "name": "python"
    }
  },
  "nbformat": 4,
  "nbformat_minor": 0
}